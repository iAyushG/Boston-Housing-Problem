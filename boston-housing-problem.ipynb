{
 "cells": [
  {
   "cell_type": "code",
   "execution_count": 1,
   "id": "herbal-teens",
   "metadata": {
    "_cell_guid": "b1076dfc-b9ad-4769-8c92-a6c4dae69d19",
    "_uuid": "8f2839f25d086af736a60e9eeb907d3b93b6e0e5",
    "execution": {
     "iopub.execute_input": "2021-06-01T10:29:22.646894Z",
     "iopub.status.busy": "2021-06-01T10:29:22.646032Z",
     "iopub.status.idle": "2021-06-01T10:29:23.752727Z",
     "shell.execute_reply": "2021-06-01T10:29:23.753289Z"
    },
    "papermill": {
     "duration": 1.140865,
     "end_time": "2021-06-01T10:29:23.753656",
     "exception": false,
     "start_time": "2021-06-01T10:29:22.612791",
     "status": "completed"
    },
    "tags": []
   },
   "outputs": [
    {
     "name": "stdout",
     "output_type": "stream",
     "text": [
      "/kaggle/input/boston-house-prices/housing.csv\n"
     ]
    }
   ],
   "source": [
    "# This Python 3 environment comes with many helpful analytics libraries installed\n",
    "# It is defined by the kaggle/python Docker image: https://github.com/kaggle/docker-python\n",
    "# For example, here's several helpful packages to load\n",
    "\n",
    "import numpy as np # linear algebra\n",
    "import pandas as pd # data processing, CSV file I/O (e.g. pd.read_csv)\n",
    "\n",
    "import matplotlib as mp\n",
    "import matplotlib.pyplot as plt\n",
    "\n",
    "from pandas import read_csv\n",
    "\n",
    "from matplotlib.animation import FuncAnimation\n",
    "\n",
    "from sklearn.datasets import load_boston\n",
    "from sklearn.metrics import mean_squared_error\n",
    "from sklearn.model_selection import train_test_split\n",
    "from sklearn.preprocessing import MinMaxScaler\n",
    "\n",
    "# Input data files are available in the read-only \"../input/\" directory\n",
    "# For example, running this (by clicking run or pressing Shift+Enter) will list all files under the input directory\n",
    "\n",
    "import os\n",
    "for dirname, _, filenames in os.walk('/kaggle/input'):\n",
    "    for filename in filenames:\n",
    "        print(os.path.join(dirname, filename))\n",
    "\n",
    "# You can write up to 20GB to the current directory (/kaggle/working/) that gets preserved as output when you create a version using \"Save & Run All\" \n",
    "# You can also write temporary files to /kaggle/temp/, but they won't be saved outside of the current session"
   ]
  },
  {
   "cell_type": "code",
   "execution_count": 2,
   "id": "certified-participation",
   "metadata": {
    "execution": {
     "iopub.execute_input": "2021-06-01T10:29:23.794483Z",
     "iopub.status.busy": "2021-06-01T10:29:23.793809Z",
     "iopub.status.idle": "2021-06-01T10:29:23.861571Z",
     "shell.execute_reply": "2021-06-01T10:29:23.862018Z"
    },
    "papermill": {
     "duration": 0.091488,
     "end_time": "2021-06-01T10:29:23.862355",
     "exception": false,
     "start_time": "2021-06-01T10:29:23.770867",
     "status": "completed"
    },
    "tags": []
   },
   "outputs": [
    {
     "data": {
      "text/html": [
       "<div>\n",
       "<style scoped>\n",
       "    .dataframe tbody tr th:only-of-type {\n",
       "        vertical-align: middle;\n",
       "    }\n",
       "\n",
       "    .dataframe tbody tr th {\n",
       "        vertical-align: top;\n",
       "    }\n",
       "\n",
       "    .dataframe thead th {\n",
       "        text-align: right;\n",
       "    }\n",
       "</style>\n",
       "<table border=\"1\" class=\"dataframe\">\n",
       "  <thead>\n",
       "    <tr style=\"text-align: right;\">\n",
       "      <th></th>\n",
       "      <th>CRIM</th>\n",
       "      <th>ZN</th>\n",
       "      <th>INDUS</th>\n",
       "      <th>CHAS</th>\n",
       "      <th>NOX</th>\n",
       "      <th>RM</th>\n",
       "      <th>AGE</th>\n",
       "      <th>DIS</th>\n",
       "      <th>RAD</th>\n",
       "      <th>TAX</th>\n",
       "      <th>PTRATIO</th>\n",
       "      <th>B</th>\n",
       "      <th>LSTAT</th>\n",
       "      <th>MEDV</th>\n",
       "    </tr>\n",
       "  </thead>\n",
       "  <tbody>\n",
       "    <tr>\n",
       "      <th>0</th>\n",
       "      <td>0.00632</td>\n",
       "      <td>18.0</td>\n",
       "      <td>2.31</td>\n",
       "      <td>0</td>\n",
       "      <td>0.538</td>\n",
       "      <td>6.575</td>\n",
       "      <td>65.2</td>\n",
       "      <td>4.0900</td>\n",
       "      <td>1</td>\n",
       "      <td>296.0</td>\n",
       "      <td>15.3</td>\n",
       "      <td>396.90</td>\n",
       "      <td>4.98</td>\n",
       "      <td>24.0</td>\n",
       "    </tr>\n",
       "    <tr>\n",
       "      <th>1</th>\n",
       "      <td>0.02731</td>\n",
       "      <td>0.0</td>\n",
       "      <td>7.07</td>\n",
       "      <td>0</td>\n",
       "      <td>0.469</td>\n",
       "      <td>6.421</td>\n",
       "      <td>78.9</td>\n",
       "      <td>4.9671</td>\n",
       "      <td>2</td>\n",
       "      <td>242.0</td>\n",
       "      <td>17.8</td>\n",
       "      <td>396.90</td>\n",
       "      <td>9.14</td>\n",
       "      <td>21.6</td>\n",
       "    </tr>\n",
       "    <tr>\n",
       "      <th>2</th>\n",
       "      <td>0.02729</td>\n",
       "      <td>0.0</td>\n",
       "      <td>7.07</td>\n",
       "      <td>0</td>\n",
       "      <td>0.469</td>\n",
       "      <td>7.185</td>\n",
       "      <td>61.1</td>\n",
       "      <td>4.9671</td>\n",
       "      <td>2</td>\n",
       "      <td>242.0</td>\n",
       "      <td>17.8</td>\n",
       "      <td>392.83</td>\n",
       "      <td>4.03</td>\n",
       "      <td>34.7</td>\n",
       "    </tr>\n",
       "    <tr>\n",
       "      <th>3</th>\n",
       "      <td>0.03237</td>\n",
       "      <td>0.0</td>\n",
       "      <td>2.18</td>\n",
       "      <td>0</td>\n",
       "      <td>0.458</td>\n",
       "      <td>6.998</td>\n",
       "      <td>45.8</td>\n",
       "      <td>6.0622</td>\n",
       "      <td>3</td>\n",
       "      <td>222.0</td>\n",
       "      <td>18.7</td>\n",
       "      <td>394.63</td>\n",
       "      <td>2.94</td>\n",
       "      <td>33.4</td>\n",
       "    </tr>\n",
       "    <tr>\n",
       "      <th>4</th>\n",
       "      <td>0.06905</td>\n",
       "      <td>0.0</td>\n",
       "      <td>2.18</td>\n",
       "      <td>0</td>\n",
       "      <td>0.458</td>\n",
       "      <td>7.147</td>\n",
       "      <td>54.2</td>\n",
       "      <td>6.0622</td>\n",
       "      <td>3</td>\n",
       "      <td>222.0</td>\n",
       "      <td>18.7</td>\n",
       "      <td>396.90</td>\n",
       "      <td>5.33</td>\n",
       "      <td>36.2</td>\n",
       "    </tr>\n",
       "    <tr>\n",
       "      <th>...</th>\n",
       "      <td>...</td>\n",
       "      <td>...</td>\n",
       "      <td>...</td>\n",
       "      <td>...</td>\n",
       "      <td>...</td>\n",
       "      <td>...</td>\n",
       "      <td>...</td>\n",
       "      <td>...</td>\n",
       "      <td>...</td>\n",
       "      <td>...</td>\n",
       "      <td>...</td>\n",
       "      <td>...</td>\n",
       "      <td>...</td>\n",
       "      <td>...</td>\n",
       "    </tr>\n",
       "    <tr>\n",
       "      <th>501</th>\n",
       "      <td>0.06263</td>\n",
       "      <td>0.0</td>\n",
       "      <td>11.93</td>\n",
       "      <td>0</td>\n",
       "      <td>0.573</td>\n",
       "      <td>6.593</td>\n",
       "      <td>69.1</td>\n",
       "      <td>2.4786</td>\n",
       "      <td>1</td>\n",
       "      <td>273.0</td>\n",
       "      <td>21.0</td>\n",
       "      <td>391.99</td>\n",
       "      <td>9.67</td>\n",
       "      <td>22.4</td>\n",
       "    </tr>\n",
       "    <tr>\n",
       "      <th>502</th>\n",
       "      <td>0.04527</td>\n",
       "      <td>0.0</td>\n",
       "      <td>11.93</td>\n",
       "      <td>0</td>\n",
       "      <td>0.573</td>\n",
       "      <td>6.120</td>\n",
       "      <td>76.7</td>\n",
       "      <td>2.2875</td>\n",
       "      <td>1</td>\n",
       "      <td>273.0</td>\n",
       "      <td>21.0</td>\n",
       "      <td>396.90</td>\n",
       "      <td>9.08</td>\n",
       "      <td>20.6</td>\n",
       "    </tr>\n",
       "    <tr>\n",
       "      <th>503</th>\n",
       "      <td>0.06076</td>\n",
       "      <td>0.0</td>\n",
       "      <td>11.93</td>\n",
       "      <td>0</td>\n",
       "      <td>0.573</td>\n",
       "      <td>6.976</td>\n",
       "      <td>91.0</td>\n",
       "      <td>2.1675</td>\n",
       "      <td>1</td>\n",
       "      <td>273.0</td>\n",
       "      <td>21.0</td>\n",
       "      <td>396.90</td>\n",
       "      <td>5.64</td>\n",
       "      <td>23.9</td>\n",
       "    </tr>\n",
       "    <tr>\n",
       "      <th>504</th>\n",
       "      <td>0.10959</td>\n",
       "      <td>0.0</td>\n",
       "      <td>11.93</td>\n",
       "      <td>0</td>\n",
       "      <td>0.573</td>\n",
       "      <td>6.794</td>\n",
       "      <td>89.3</td>\n",
       "      <td>2.3889</td>\n",
       "      <td>1</td>\n",
       "      <td>273.0</td>\n",
       "      <td>21.0</td>\n",
       "      <td>393.45</td>\n",
       "      <td>6.48</td>\n",
       "      <td>22.0</td>\n",
       "    </tr>\n",
       "    <tr>\n",
       "      <th>505</th>\n",
       "      <td>0.04741</td>\n",
       "      <td>0.0</td>\n",
       "      <td>11.93</td>\n",
       "      <td>0</td>\n",
       "      <td>0.573</td>\n",
       "      <td>6.030</td>\n",
       "      <td>80.8</td>\n",
       "      <td>2.5050</td>\n",
       "      <td>1</td>\n",
       "      <td>273.0</td>\n",
       "      <td>21.0</td>\n",
       "      <td>396.90</td>\n",
       "      <td>7.88</td>\n",
       "      <td>11.9</td>\n",
       "    </tr>\n",
       "  </tbody>\n",
       "</table>\n",
       "<p>506 rows × 14 columns</p>\n",
       "</div>"
      ],
      "text/plain": [
       "        CRIM    ZN  INDUS  CHAS    NOX     RM   AGE     DIS  RAD    TAX  \\\n",
       "0    0.00632  18.0   2.31     0  0.538  6.575  65.2  4.0900    1  296.0   \n",
       "1    0.02731   0.0   7.07     0  0.469  6.421  78.9  4.9671    2  242.0   \n",
       "2    0.02729   0.0   7.07     0  0.469  7.185  61.1  4.9671    2  242.0   \n",
       "3    0.03237   0.0   2.18     0  0.458  6.998  45.8  6.0622    3  222.0   \n",
       "4    0.06905   0.0   2.18     0  0.458  7.147  54.2  6.0622    3  222.0   \n",
       "..       ...   ...    ...   ...    ...    ...   ...     ...  ...    ...   \n",
       "501  0.06263   0.0  11.93     0  0.573  6.593  69.1  2.4786    1  273.0   \n",
       "502  0.04527   0.0  11.93     0  0.573  6.120  76.7  2.2875    1  273.0   \n",
       "503  0.06076   0.0  11.93     0  0.573  6.976  91.0  2.1675    1  273.0   \n",
       "504  0.10959   0.0  11.93     0  0.573  6.794  89.3  2.3889    1  273.0   \n",
       "505  0.04741   0.0  11.93     0  0.573  6.030  80.8  2.5050    1  273.0   \n",
       "\n",
       "     PTRATIO       B  LSTAT  MEDV  \n",
       "0       15.3  396.90   4.98  24.0  \n",
       "1       17.8  396.90   9.14  21.6  \n",
       "2       17.8  392.83   4.03  34.7  \n",
       "3       18.7  394.63   2.94  33.4  \n",
       "4       18.7  396.90   5.33  36.2  \n",
       "..       ...     ...    ...   ...  \n",
       "501     21.0  391.99   9.67  22.4  \n",
       "502     21.0  396.90   9.08  20.6  \n",
       "503     21.0  396.90   5.64  23.9  \n",
       "504     21.0  393.45   6.48  22.0  \n",
       "505     21.0  396.90   7.88  11.9  \n",
       "\n",
       "[506 rows x 14 columns]"
      ]
     },
     "execution_count": 2,
     "metadata": {},
     "output_type": "execute_result"
    }
   ],
   "source": [
    "#reading the csv file\n",
    "column_names = ['CRIM', 'ZN', 'INDUS', 'CHAS', 'NOX', 'RM', 'AGE', 'DIS', 'RAD', 'TAX', 'PTRATIO', 'B', 'LSTAT', 'MEDV']\n",
    "boston = read_csv('/kaggle/input/boston-house-prices/housing.csv', header=None, delimiter=r\"\\s+\", names=column_names)\n",
    "boston"
   ]
  },
  {
   "cell_type": "code",
   "execution_count": 3,
   "id": "corrected-stamp",
   "metadata": {
    "execution": {
     "iopub.execute_input": "2021-06-01T10:29:23.902283Z",
     "iopub.status.busy": "2021-06-01T10:29:23.901349Z",
     "iopub.status.idle": "2021-06-01T10:29:23.914291Z",
     "shell.execute_reply": "2021-06-01T10:29:23.913667Z"
    },
    "papermill": {
     "duration": 0.03442,
     "end_time": "2021-06-01T10:29:23.914445",
     "exception": false,
     "start_time": "2021-06-01T10:29:23.880025",
     "status": "completed"
    },
    "tags": []
   },
   "outputs": [
    {
     "data": {
      "text/plain": [
       "0      65.2\n",
       "1      78.9\n",
       "2      61.1\n",
       "3      45.8\n",
       "4      54.2\n",
       "       ... \n",
       "501    69.1\n",
       "502    76.7\n",
       "503    91.0\n",
       "504    89.3\n",
       "505    80.8\n",
       "Name: AGE, Length: 506, dtype: float64"
      ]
     },
     "execution_count": 3,
     "metadata": {},
     "output_type": "execute_result"
    }
   ],
   "source": [
    "#checking the features\n",
    "boston['AGE']"
   ]
  },
  {
   "cell_type": "code",
   "execution_count": 4,
   "id": "subject-patent",
   "metadata": {
    "execution": {
     "iopub.execute_input": "2021-06-01T10:29:23.956619Z",
     "iopub.status.busy": "2021-06-01T10:29:23.955793Z",
     "iopub.status.idle": "2021-06-01T10:29:23.962409Z",
     "shell.execute_reply": "2021-06-01T10:29:23.961749Z"
    },
    "papermill": {
     "duration": 0.029461,
     "end_time": "2021-06-01T10:29:23.962573",
     "exception": false,
     "start_time": "2021-06-01T10:29:23.933112",
     "status": "completed"
    },
    "tags": []
   },
   "outputs": [
    {
     "name": "stdout",
     "output_type": "stream",
     "text": [
      "50.0\n",
      "5.0\n"
     ]
    }
   ],
   "source": [
    "#performing basic functions\n",
    "print(max(boston['MEDV']))\n",
    "print(min(boston['MEDV']))"
   ]
  },
  {
   "cell_type": "code",
   "execution_count": 5,
   "id": "earlier-sheep",
   "metadata": {
    "execution": {
     "iopub.execute_input": "2021-06-01T10:29:24.009283Z",
     "iopub.status.busy": "2021-06-01T10:29:24.008583Z",
     "iopub.status.idle": "2021-06-01T10:29:24.072914Z",
     "shell.execute_reply": "2021-06-01T10:29:24.072238Z"
    },
    "papermill": {
     "duration": 0.091783,
     "end_time": "2021-06-01T10:29:24.073061",
     "exception": false,
     "start_time": "2021-06-01T10:29:23.981278",
     "status": "completed"
    },
    "tags": []
   },
   "outputs": [
    {
     "data": {
      "text/html": [
       "<div>\n",
       "<style scoped>\n",
       "    .dataframe tbody tr th:only-of-type {\n",
       "        vertical-align: middle;\n",
       "    }\n",
       "\n",
       "    .dataframe tbody tr th {\n",
       "        vertical-align: top;\n",
       "    }\n",
       "\n",
       "    .dataframe thead th {\n",
       "        text-align: right;\n",
       "    }\n",
       "</style>\n",
       "<table border=\"1\" class=\"dataframe\">\n",
       "  <thead>\n",
       "    <tr style=\"text-align: right;\">\n",
       "      <th></th>\n",
       "      <th>CRIM</th>\n",
       "      <th>ZN</th>\n",
       "      <th>INDUS</th>\n",
       "      <th>CHAS</th>\n",
       "      <th>NOX</th>\n",
       "      <th>RM</th>\n",
       "      <th>AGE</th>\n",
       "      <th>DIS</th>\n",
       "      <th>RAD</th>\n",
       "      <th>TAX</th>\n",
       "      <th>PTRATIO</th>\n",
       "      <th>B</th>\n",
       "      <th>LSTAT</th>\n",
       "      <th>MEDV</th>\n",
       "    </tr>\n",
       "  </thead>\n",
       "  <tbody>\n",
       "    <tr>\n",
       "      <th>count</th>\n",
       "      <td>506.00</td>\n",
       "      <td>506.00</td>\n",
       "      <td>506.00</td>\n",
       "      <td>506.00</td>\n",
       "      <td>506.00</td>\n",
       "      <td>506.00</td>\n",
       "      <td>506.00</td>\n",
       "      <td>506.00</td>\n",
       "      <td>506.00</td>\n",
       "      <td>506.00</td>\n",
       "      <td>506.00</td>\n",
       "      <td>506.00</td>\n",
       "      <td>506.00</td>\n",
       "      <td>506.00</td>\n",
       "    </tr>\n",
       "    <tr>\n",
       "      <th>mean</th>\n",
       "      <td>3.61</td>\n",
       "      <td>11.36</td>\n",
       "      <td>11.14</td>\n",
       "      <td>0.07</td>\n",
       "      <td>0.55</td>\n",
       "      <td>6.28</td>\n",
       "      <td>68.57</td>\n",
       "      <td>3.80</td>\n",
       "      <td>9.55</td>\n",
       "      <td>408.24</td>\n",
       "      <td>18.46</td>\n",
       "      <td>356.67</td>\n",
       "      <td>12.65</td>\n",
       "      <td>22.53</td>\n",
       "    </tr>\n",
       "    <tr>\n",
       "      <th>std</th>\n",
       "      <td>8.60</td>\n",
       "      <td>23.32</td>\n",
       "      <td>6.86</td>\n",
       "      <td>0.25</td>\n",
       "      <td>0.12</td>\n",
       "      <td>0.70</td>\n",
       "      <td>28.15</td>\n",
       "      <td>2.11</td>\n",
       "      <td>8.71</td>\n",
       "      <td>168.54</td>\n",
       "      <td>2.16</td>\n",
       "      <td>91.29</td>\n",
       "      <td>7.14</td>\n",
       "      <td>9.20</td>\n",
       "    </tr>\n",
       "    <tr>\n",
       "      <th>min</th>\n",
       "      <td>0.01</td>\n",
       "      <td>0.00</td>\n",
       "      <td>0.46</td>\n",
       "      <td>0.00</td>\n",
       "      <td>0.38</td>\n",
       "      <td>3.56</td>\n",
       "      <td>2.90</td>\n",
       "      <td>1.13</td>\n",
       "      <td>1.00</td>\n",
       "      <td>187.00</td>\n",
       "      <td>12.60</td>\n",
       "      <td>0.32</td>\n",
       "      <td>1.73</td>\n",
       "      <td>5.00</td>\n",
       "    </tr>\n",
       "    <tr>\n",
       "      <th>25%</th>\n",
       "      <td>0.08</td>\n",
       "      <td>0.00</td>\n",
       "      <td>5.19</td>\n",
       "      <td>0.00</td>\n",
       "      <td>0.45</td>\n",
       "      <td>5.89</td>\n",
       "      <td>45.02</td>\n",
       "      <td>2.10</td>\n",
       "      <td>4.00</td>\n",
       "      <td>279.00</td>\n",
       "      <td>17.40</td>\n",
       "      <td>375.38</td>\n",
       "      <td>6.95</td>\n",
       "      <td>17.02</td>\n",
       "    </tr>\n",
       "    <tr>\n",
       "      <th>50%</th>\n",
       "      <td>0.26</td>\n",
       "      <td>0.00</td>\n",
       "      <td>9.69</td>\n",
       "      <td>0.00</td>\n",
       "      <td>0.54</td>\n",
       "      <td>6.21</td>\n",
       "      <td>77.50</td>\n",
       "      <td>3.21</td>\n",
       "      <td>5.00</td>\n",
       "      <td>330.00</td>\n",
       "      <td>19.05</td>\n",
       "      <td>391.44</td>\n",
       "      <td>11.36</td>\n",
       "      <td>21.20</td>\n",
       "    </tr>\n",
       "    <tr>\n",
       "      <th>75%</th>\n",
       "      <td>3.68</td>\n",
       "      <td>12.50</td>\n",
       "      <td>18.10</td>\n",
       "      <td>0.00</td>\n",
       "      <td>0.62</td>\n",
       "      <td>6.62</td>\n",
       "      <td>94.07</td>\n",
       "      <td>5.19</td>\n",
       "      <td>24.00</td>\n",
       "      <td>666.00</td>\n",
       "      <td>20.20</td>\n",
       "      <td>396.22</td>\n",
       "      <td>16.96</td>\n",
       "      <td>25.00</td>\n",
       "    </tr>\n",
       "    <tr>\n",
       "      <th>max</th>\n",
       "      <td>88.98</td>\n",
       "      <td>100.00</td>\n",
       "      <td>27.74</td>\n",
       "      <td>1.00</td>\n",
       "      <td>0.87</td>\n",
       "      <td>8.78</td>\n",
       "      <td>100.00</td>\n",
       "      <td>12.13</td>\n",
       "      <td>24.00</td>\n",
       "      <td>711.00</td>\n",
       "      <td>22.00</td>\n",
       "      <td>396.90</td>\n",
       "      <td>37.97</td>\n",
       "      <td>50.00</td>\n",
       "    </tr>\n",
       "  </tbody>\n",
       "</table>\n",
       "</div>"
      ],
      "text/plain": [
       "         CRIM      ZN   INDUS    CHAS     NOX      RM     AGE     DIS     RAD  \\\n",
       "count  506.00  506.00  506.00  506.00  506.00  506.00  506.00  506.00  506.00   \n",
       "mean     3.61   11.36   11.14    0.07    0.55    6.28   68.57    3.80    9.55   \n",
       "std      8.60   23.32    6.86    0.25    0.12    0.70   28.15    2.11    8.71   \n",
       "min      0.01    0.00    0.46    0.00    0.38    3.56    2.90    1.13    1.00   \n",
       "25%      0.08    0.00    5.19    0.00    0.45    5.89   45.02    2.10    4.00   \n",
       "50%      0.26    0.00    9.69    0.00    0.54    6.21   77.50    3.21    5.00   \n",
       "75%      3.68   12.50   18.10    0.00    0.62    6.62   94.07    5.19   24.00   \n",
       "max     88.98  100.00   27.74    1.00    0.87    8.78  100.00   12.13   24.00   \n",
       "\n",
       "          TAX  PTRATIO       B   LSTAT    MEDV  \n",
       "count  506.00   506.00  506.00  506.00  506.00  \n",
       "mean   408.24    18.46  356.67   12.65   22.53  \n",
       "std    168.54     2.16   91.29    7.14    9.20  \n",
       "min    187.00    12.60    0.32    1.73    5.00  \n",
       "25%    279.00    17.40  375.38    6.95   17.02  \n",
       "50%    330.00    19.05  391.44   11.36   21.20  \n",
       "75%    666.00    20.20  396.22   16.96   25.00  \n",
       "max    711.00    22.00  396.90   37.97   50.00  "
      ]
     },
     "execution_count": 5,
     "metadata": {},
     "output_type": "execute_result"
    }
   ],
   "source": [
    "#describing the data\n",
    "boston.describe().round(decimals = 2)"
   ]
  },
  {
   "cell_type": "code",
   "execution_count": 6,
   "id": "latter-april",
   "metadata": {
    "execution": {
     "iopub.execute_input": "2021-06-01T10:29:24.122769Z",
     "iopub.status.busy": "2021-06-01T10:29:24.122073Z",
     "iopub.status.idle": "2021-06-01T10:29:24.362386Z",
     "shell.execute_reply": "2021-06-01T10:29:24.361840Z"
    },
    "papermill": {
     "duration": 0.270378,
     "end_time": "2021-06-01T10:29:24.362550",
     "exception": false,
     "start_time": "2021-06-01T10:29:24.092172",
     "status": "completed"
    },
    "tags": []
   },
   "outputs": [
    {
     "data": {
      "image/png": "[encoded data removed]",
      "text/plain": [
       "<Figure size 1080x360 with 1 Axes>"
      ]
     },
     "metadata": {
      "needs_background": "light"
     },
     "output_type": "display_data"
    }
   ],
   "source": [
    "#correlation between every column in the data\n",
    "#using PEARSON CORRELATION\n",
    "corr = boston.corr('pearson')\n",
    "\n",
    "#absolute value of the correlation\n",
    "corrs = [abs(corr[attr]['MEDV']) for attr in list(boston)]\n",
    "\n",
    "#make a list of pair [(corr, feature)] using zip\n",
    "l = list(zip(corrs, list(boston)))\n",
    "\n",
    "#sorting the list pairs in reverse\n",
    "#with the correlation value as the key for sorting\n",
    "l.sort(key = lambda x : x[0], reverse=True)\n",
    "\n",
    "#'UNZIP' pairs to 2 lists\n",
    "#zip(*l) makes a list looking like ([a,b,c], [d,e,f], [g,h,i]) to ([a,d,g], [b,e,h], [c,f,i])\n",
    "corrs, labels = list(zip((*l)))\n",
    "\n",
    "#plot correlation wrt MEDV variables as a bar graph\n",
    "index = np.arange(len(labels))\n",
    "plt.figure(figsize=(15, 5))\n",
    "plt.bar(index, corrs, width=0.5)\n",
    "plt.xlabel('Attributes')\n",
    "plt.ylabel('Correlation wrt MEDV Variables')\n",
    "plt.xticks(index, labels)\n",
    "plt.show()"
   ]
  },
  {
   "cell_type": "code",
   "execution_count": 7,
   "id": "lesser-trinidad",
   "metadata": {
    "execution": {
     "iopub.execute_input": "2021-06-01T10:29:24.408297Z",
     "iopub.status.busy": "2021-06-01T10:29:24.407416Z",
     "iopub.status.idle": "2021-06-01T10:29:24.410744Z",
     "shell.execute_reply": "2021-06-01T10:29:24.411199Z"
    },
    "papermill": {
     "duration": 0.028738,
     "end_time": "2021-06-01T10:29:24.411386",
     "exception": false,
     "start_time": "2021-06-01T10:29:24.382648",
     "status": "completed"
    },
    "tags": []
   },
   "outputs": [],
   "source": [
    "#setting the values\n",
    "X=boston['LSTAT'].values\n",
    "Y=boston['MEDV'].values"
   ]
  },
  {
   "cell_type": "code",
   "execution_count": 8,
   "id": "compatible-devon",
   "metadata": {
    "execution": {
     "iopub.execute_input": "2021-06-01T10:29:24.458262Z",
     "iopub.status.busy": "2021-06-01T10:29:24.457453Z",
     "iopub.status.idle": "2021-06-01T10:29:24.462368Z",
     "shell.execute_reply": "2021-06-01T10:29:24.461870Z"
    },
    "papermill": {
     "duration": 0.029975,
     "end_time": "2021-06-01T10:29:24.462528",
     "exception": false,
     "start_time": "2021-06-01T10:29:24.432553",
     "status": "completed"
    },
    "tags": []
   },
   "outputs": [
    {
     "name": "stdout",
     "output_type": "stream",
     "text": [
      "[24.  21.6 34.7 33.4 36.2]\n"
     ]
    }
   ],
   "source": [
    "#before normalisation\n",
    "print(Y[:5])"
   ]
  },
  {
   "cell_type": "code",
   "execution_count": 9,
   "id": "palestinian-broadcasting",
   "metadata": {
    "execution": {
     "iopub.execute_input": "2021-06-01T10:29:24.511801Z",
     "iopub.status.busy": "2021-06-01T10:29:24.511107Z",
     "iopub.status.idle": "2021-06-01T10:29:24.513860Z",
     "shell.execute_reply": "2021-06-01T10:29:24.514300Z"
    },
    "papermill": {
     "duration": 0.031584,
     "end_time": "2021-06-01T10:29:24.514513",
     "exception": false,
     "start_time": "2021-06-01T10:29:24.482929",
     "status": "completed"
    },
    "tags": []
   },
   "outputs": [],
   "source": [
    "#normalising\n",
    "x_scaler = MinMaxScaler()\n",
    "X = x_scaler.fit_transform(X.reshape(-1, 1))\n",
    "X = X[:, -1]\n",
    "y_scaler = MinMaxScaler()\n",
    "Y = y_scaler.fit_transform(Y.reshape(-1, 1))\n",
    "Y = Y[:, -1]"
   ]
  },
  {
   "cell_type": "code",
   "execution_count": 10,
   "id": "proud-sewing",
   "metadata": {
    "execution": {
     "iopub.execute_input": "2021-06-01T10:29:24.562526Z",
     "iopub.status.busy": "2021-06-01T10:29:24.561649Z",
     "iopub.status.idle": "2021-06-01T10:29:24.566925Z",
     "shell.execute_reply": "2021-06-01T10:29:24.566342Z"
    },
    "papermill": {
     "duration": 0.031513,
     "end_time": "2021-06-01T10:29:24.567084",
     "exception": false,
     "start_time": "2021-06-01T10:29:24.535571",
     "status": "completed"
    },
    "tags": []
   },
   "outputs": [
    {
     "name": "stdout",
     "output_type": "stream",
     "text": [
      "[0.42222222 0.36888889 0.66       0.63111111 0.69333333]\n"
     ]
    }
   ],
   "source": [
    "#after normalisation\n",
    "print(Y[:5])"
   ]
  },
  {
   "cell_type": "code",
   "execution_count": 11,
   "id": "hybrid-exchange",
   "metadata": {
    "execution": {
     "iopub.execute_input": "2021-06-01T10:29:24.616251Z",
     "iopub.status.busy": "2021-06-01T10:29:24.615411Z",
     "iopub.status.idle": "2021-06-01T10:29:24.619319Z",
     "shell.execute_reply": "2021-06-01T10:29:24.618612Z"
    },
    "papermill": {
     "duration": 0.03082,
     "end_time": "2021-06-01T10:29:24.619473",
     "exception": false,
     "start_time": "2021-06-01T10:29:24.588653",
     "status": "completed"
    },
    "tags": []
   },
   "outputs": [],
   "source": [
    "#Mean Squared Error\n",
    "def error(m, x, c, t):\n",
    "    N = x.size\n",
    "    e = sum(((m * x + c) - t) ** 2)\n",
    "    return e * 1/(2 * N)"
   ]
  },
  {
   "cell_type": "code",
   "execution_count": 12,
   "id": "cellular-seller",
   "metadata": {
    "execution": {
     "iopub.execute_input": "2021-06-01T10:29:24.669948Z",
     "iopub.status.busy": "2021-06-01T10:29:24.669250Z",
     "iopub.status.idle": "2021-06-01T10:29:24.671372Z",
     "shell.execute_reply": "2021-06-01T10:29:24.671932Z"
    },
    "papermill": {
     "duration": 0.030425,
     "end_time": "2021-06-01T10:29:24.672104",
     "exception": false,
     "start_time": "2021-06-01T10:29:24.641679",
     "status": "completed"
    },
    "tags": []
   },
   "outputs": [],
   "source": [
    "#0.2 indicates that 20% of the data is randomly sampled as testing data\n",
    "xtrain, xtest, ytrain, ytest = train_test_split(X, Y, test_size=0.2)"
   ]
  },
  {
   "cell_type": "code",
   "execution_count": 13,
   "id": "disabled-shirt",
   "metadata": {
    "execution": {
     "iopub.execute_input": "2021-06-01T10:29:24.720388Z",
     "iopub.status.busy": "2021-06-01T10:29:24.719772Z",
     "iopub.status.idle": "2021-06-01T10:29:24.725326Z",
     "shell.execute_reply": "2021-06-01T10:29:24.725819Z"
    },
    "papermill": {
     "duration": 0.031058,
     "end_time": "2021-06-01T10:29:24.726005",
     "exception": false,
     "start_time": "2021-06-01T10:29:24.694947",
     "status": "completed"
    },
    "tags": []
   },
   "outputs": [],
   "source": [
    "#update Function\n",
    "def update(m, x, c, t, learning_rate):\n",
    "    grad_m = sum(2 * ((m * x + c) - t) * x)\n",
    "    grad_c = sum(2 * ((m * x + c) - t))\n",
    "    m = m - grad_m * learning_rate\n",
    "    c = c - grad_c * learning_rate\n",
    "    return m, c"
   ]
  },
  {
   "cell_type": "code",
   "execution_count": 14,
   "id": "deadly-leadership",
   "metadata": {
    "execution": {
     "iopub.execute_input": "2021-06-01T10:29:24.778794Z",
     "iopub.status.busy": "2021-06-01T10:29:24.778083Z",
     "iopub.status.idle": "2021-06-01T10:29:24.781773Z",
     "shell.execute_reply": "2021-06-01T10:29:24.781130Z"
    },
    "papermill": {
     "duration": 0.033778,
     "end_time": "2021-06-01T10:29:24.781923",
     "exception": false,
     "start_time": "2021-06-01T10:29:24.748145",
     "status": "completed"
    },
    "tags": []
   },
   "outputs": [],
   "source": [
    "#Gradient Descent Function\n",
    "def gradient_descent(init_m, init_c, x, t, learning_rate, iterations, error_threshold):\n",
    "    m = init_m\n",
    "    c = init_c\n",
    "    error_values = list()\n",
    "    mc_values = list()\n",
    "    for i in range(iterations):\n",
    "        e = error(m, x, c, t)\n",
    "        if e < error_threshold:\n",
    "            print('Error less than the threshold. Stopping Gradient Descent.')\n",
    "            break\n",
    "        error_values.append(e)\n",
    "        m, c = update(m, x, c, t, learning_rate)\n",
    "        mc_values.append((m, c))\n",
    "    return m, c, error_values, mc_values"
   ]
  },
  {
   "cell_type": "code",
   "execution_count": 15,
   "id": "planned-calendar",
   "metadata": {
    "execution": {
     "iopub.execute_input": "2021-06-01T10:29:24.873763Z",
     "iopub.status.busy": "2021-06-01T10:29:24.868268Z",
     "iopub.status.idle": "2021-06-01T10:29:24.961836Z",
     "shell.execute_reply": "2021-06-01T10:29:24.961255Z"
    },
    "papermill": {
     "duration": 0.15707,
     "end_time": "2021-06-01T10:29:24.961993",
     "exception": false,
     "start_time": "2021-06-01T10:29:24.804923",
     "status": "completed"
    },
    "tags": []
   },
   "outputs": [
    {
     "name": "stdout",
     "output_type": "stream",
     "text": [
      "CPU times: user 122 ms, sys: 1.04 ms, total: 123 ms\n",
      "Wall time: 122 ms\n"
     ]
    }
   ],
   "source": [
    "%%time   \n",
    "#time taken for computing the given number of iterations\n",
    "\n",
    "init_m = 0.9\n",
    "init_c = 0\n",
    "learning_rate = 0.001\n",
    "iterations = 250\n",
    "error_threshold = 0.001\n",
    "\n",
    "\n",
    "m, c, error_value, mc_values = gradient_descent(init_m, init_c, xtrain, ytrain, learning_rate, iterations, error_threshold)"
   ]
  },
  {
   "cell_type": "code",
   "execution_count": 16,
   "id": "editorial-entrepreneur",
   "metadata": {
    "execution": {
     "iopub.execute_input": "2021-06-01T10:29:25.014913Z",
     "iopub.status.busy": "2021-06-01T10:29:25.013997Z",
     "iopub.status.idle": "2021-06-01T10:29:25.017628Z",
     "shell.execute_reply": "2021-06-01T10:29:25.016990Z"
    },
    "papermill": {
     "duration": 0.031808,
     "end_time": "2021-06-01T10:29:25.017801",
     "exception": false,
     "start_time": "2021-06-01T10:29:24.985993",
     "status": "completed"
    },
    "tags": []
   },
   "outputs": [],
   "source": [
    "#as the number of iterations increase, the changes in the line is less noticeable\n",
    "#in order to reduce the processing time for the animation, it is advised to choose smaller values\n",
    "mc_values_anim = mc_values[0:250:5]"
   ]
  },
  {
   "cell_type": "code",
   "execution_count": 17,
   "id": "secure-fabric",
   "metadata": {
    "execution": {
     "iopub.execute_input": "2021-06-01T10:29:25.087872Z",
     "iopub.status.busy": "2021-06-01T10:29:25.084999Z",
     "iopub.status.idle": "2021-06-01T10:29:25.231124Z",
     "shell.execute_reply": "2021-06-01T10:29:25.231592Z"
    },
    "papermill": {
     "duration": 0.191478,
     "end_time": "2021-06-01T10:29:25.231790",
     "exception": false,
     "start_time": "2021-06-01T10:29:25.040312",
     "status": "completed"
    },
    "tags": []
   },
   "outputs": [
    {
     "data": {
      "text/plain": [
       "[<matplotlib.lines.Line2D at 0x7fcd9e920110>]"
      ]
     },
     "execution_count": 17,
     "metadata": {},
     "output_type": "execute_result"
    },
    {
     "data": {
      "image/png": "[encoded data removed]",
      "text/plain": [
       "<Figure size 432x288 with 1 Axes>"
      ]
     },
     "metadata": {
      "needs_background": "light"
     },
     "output_type": "display_data"
    }
   ],
   "source": [
    "#plotting a scatter plot of train dataset\n",
    "plt.scatter(xtrain, ytrain, color='b')\n",
    "plt.plot(xtrain, ((m * xtrain) + c), color='r')"
   ]
  },
  {
   "cell_type": "code",
   "execution_count": 18,
   "id": "proof-fifteen",
   "metadata": {
    "execution": {
     "iopub.execute_input": "2021-06-01T10:29:25.283118Z",
     "iopub.status.busy": "2021-06-01T10:29:25.282458Z",
     "iopub.status.idle": "2021-06-01T10:29:25.425755Z",
     "shell.execute_reply": "2021-06-01T10:29:25.426243Z"
    },
    "papermill": {
     "duration": 0.170154,
     "end_time": "2021-06-01T10:29:25.426427",
     "exception": false,
     "start_time": "2021-06-01T10:29:25.256273",
     "status": "completed"
    },
    "tags": []
   },
   "outputs": [
    {
     "data": {
      "text/plain": [
       "Text(0, 0.5, 'Error')"
      ]
     },
     "execution_count": 18,
     "metadata": {},
     "output_type": "execute_result"
    },
    {
     "data": {
      "image/png": "[encoded data removed]",
      "text/plain": [
       "<Figure size 432x288 with 1 Axes>"
      ]
     },
     "metadata": {
      "needs_background": "light"
     },
     "output_type": "display_data"
    }
   ],
   "source": [
    "#plot of Error vs Iteration Curve\n",
    "plt.plot(np.arange(len(error_value)), error_value)\n",
    "plt.xlabel('Iterations')\n",
    "plt.ylabel('Error')"
   ]
  },
  {
   "cell_type": "code",
   "execution_count": 19,
   "id": "vertical-crowd",
   "metadata": {
    "execution": {
     "iopub.execute_input": "2021-06-01T10:29:25.482052Z",
     "iopub.status.busy": "2021-06-01T10:29:25.481104Z",
     "iopub.status.idle": "2021-06-01T10:29:25.483576Z",
     "shell.execute_reply": "2021-06-01T10:29:25.484071Z"
    },
    "papermill": {
     "duration": 0.033248,
     "end_time": "2021-06-01T10:29:25.484260",
     "exception": false,
     "start_time": "2021-06-01T10:29:25.451012",
     "status": "completed"
    },
    "tags": []
   },
   "outputs": [],
   "source": [
    "#calculating the prediction on the tset set as vectorized operation\n",
    "predicted = (m * xtest) + c"
   ]
  },
  {
   "cell_type": "code",
   "execution_count": 20,
   "id": "assured-physiology",
   "metadata": {
    "execution": {
     "iopub.execute_input": "2021-06-01T10:29:25.538238Z",
     "iopub.status.busy": "2021-06-01T10:29:25.537192Z",
     "iopub.status.idle": "2021-06-01T10:29:25.543892Z",
     "shell.execute_reply": "2021-06-01T10:29:25.544341Z"
    },
    "papermill": {
     "duration": 0.035553,
     "end_time": "2021-06-01T10:29:25.544554",
     "exception": false,
     "start_time": "2021-06-01T10:29:25.509001",
     "status": "completed"
    },
    "tags": []
   },
   "outputs": [
    {
     "data": {
      "text/plain": [
       "0.018803425827711186"
      ]
     },
     "execution_count": 20,
     "metadata": {},
     "output_type": "execute_result"
    }
   ],
   "source": [
    "#calculating MSE for the predicted values on the test dataset\n",
    "mean_squared_error(ytest, predicted)"
   ]
  },
  {
   "cell_type": "code",
   "execution_count": 21,
   "id": "square-lounge",
   "metadata": {
    "execution": {
     "iopub.execute_input": "2021-06-01T10:29:25.598934Z",
     "iopub.status.busy": "2021-06-01T10:29:25.597975Z",
     "iopub.status.idle": "2021-06-01T10:29:25.610382Z",
     "shell.execute_reply": "2021-06-01T10:29:25.610847Z"
    },
    "papermill": {
     "duration": 0.04108,
     "end_time": "2021-06-01T10:29:25.611018",
     "exception": false,
     "start_time": "2021-06-01T10:29:25.569938",
     "status": "completed"
    },
    "tags": []
   },
   "outputs": [
    {
     "data": {
      "text/html": [
       "<div>\n",
       "<style scoped>\n",
       "    .dataframe tbody tr th:only-of-type {\n",
       "        vertical-align: middle;\n",
       "    }\n",
       "\n",
       "    .dataframe tbody tr th {\n",
       "        vertical-align: top;\n",
       "    }\n",
       "\n",
       "    .dataframe thead th {\n",
       "        text-align: right;\n",
       "    }\n",
       "</style>\n",
       "<table border=\"1\" class=\"dataframe\">\n",
       "  <thead>\n",
       "    <tr style=\"text-align: right;\">\n",
       "      <th></th>\n",
       "      <th>X</th>\n",
       "      <th>Target Y</th>\n",
       "      <th>Predicted Y</th>\n",
       "    </tr>\n",
       "  </thead>\n",
       "  <tbody>\n",
       "    <tr>\n",
       "      <th>0</th>\n",
       "      <td>0.099338</td>\n",
       "      <td>0.693333</td>\n",
       "      <td>0.539904</td>\n",
       "    </tr>\n",
       "    <tr>\n",
       "      <th>1</th>\n",
       "      <td>0.328918</td>\n",
       "      <td>0.348889</td>\n",
       "      <td>0.368212</td>\n",
       "    </tr>\n",
       "    <tr>\n",
       "      <th>2</th>\n",
       "      <td>0.540563</td>\n",
       "      <td>0.313333</td>\n",
       "      <td>0.209933</td>\n",
       "    </tr>\n",
       "    <tr>\n",
       "      <th>3</th>\n",
       "      <td>0.540563</td>\n",
       "      <td>0.184444</td>\n",
       "      <td>0.209933</td>\n",
       "    </tr>\n",
       "    <tr>\n",
       "      <th>4</th>\n",
       "      <td>0.064845</td>\n",
       "      <td>0.628889</td>\n",
       "      <td>0.565700</td>\n",
       "    </tr>\n",
       "  </tbody>\n",
       "</table>\n",
       "</div>"
      ],
      "text/plain": [
       "          X  Target Y  Predicted Y\n",
       "0  0.099338  0.693333     0.539904\n",
       "1  0.328918  0.348889     0.368212\n",
       "2  0.540563  0.313333     0.209933\n",
       "3  0.540563  0.184444     0.209933\n",
       "4  0.064845  0.628889     0.565700"
      ]
     },
     "execution_count": 21,
     "metadata": {},
     "output_type": "execute_result"
    }
   ],
   "source": [
    "#putting xtest, ytest and predicted values into a single data frame so that we can see the \n",
    "#predicted values alongside the testing set\n",
    "p = pd.DataFrame(list(zip(xtest, ytest, predicted)), columns =['X', 'Target Y', 'Predicted Y'])\n",
    "p.head()"
   ]
  },
  {
   "cell_type": "code",
   "execution_count": 22,
   "id": "separate-recycling",
   "metadata": {
    "execution": {
     "iopub.execute_input": "2021-06-01T10:29:25.666071Z",
     "iopub.status.busy": "2021-06-01T10:29:25.665157Z",
     "iopub.status.idle": "2021-06-01T10:29:25.806697Z",
     "shell.execute_reply": "2021-06-01T10:29:25.807156Z"
    },
    "papermill": {
     "duration": 0.170976,
     "end_time": "2021-06-01T10:29:25.807338",
     "exception": false,
     "start_time": "2021-06-01T10:29:25.636362",
     "status": "completed"
    },
    "tags": []
   },
   "outputs": [
    {
     "data": {
      "text/plain": [
       "[<matplotlib.lines.Line2D at 0x7fcd9e832290>]"
      ]
     },
     "execution_count": 22,
     "metadata": {},
     "output_type": "execute_result"
    },
    {
     "data": {
      "image/png": "[encoded data removed]",
      "text/plain": [
       "<Figure size 432x288 with 1 Axes>"
      ]
     },
     "metadata": {
      "needs_background": "light"
     },
     "output_type": "display_data"
    }
   ],
   "source": [
    "#plotting a scatter plot of test dataset wrt predicted values\n",
    "plt.scatter(xtest, ytest, color='b')\n",
    "plt.plot(xtest, predicted, color='r')"
   ]
  },
  {
   "cell_type": "code",
   "execution_count": 23,
   "id": "sweet-quilt",
   "metadata": {
    "execution": {
     "iopub.execute_input": "2021-06-01T10:29:25.865435Z",
     "iopub.status.busy": "2021-06-01T10:29:25.864477Z",
     "iopub.status.idle": "2021-06-01T10:29:25.883251Z",
     "shell.execute_reply": "2021-06-01T10:29:25.882752Z"
    },
    "papermill": {
     "duration": 0.049156,
     "end_time": "2021-06-01T10:29:25.883389",
     "exception": false,
     "start_time": "2021-06-01T10:29:25.834233",
     "status": "completed"
    },
    "tags": []
   },
   "outputs": [
    {
     "data": {
      "text/html": [
       "<div>\n",
       "<style scoped>\n",
       "    .dataframe tbody tr th:only-of-type {\n",
       "        vertical-align: middle;\n",
       "    }\n",
       "\n",
       "    .dataframe tbody tr th {\n",
       "        vertical-align: top;\n",
       "    }\n",
       "\n",
       "    .dataframe thead th {\n",
       "        text-align: right;\n",
       "    }\n",
       "</style>\n",
       "<table border=\"1\" class=\"dataframe\">\n",
       "  <thead>\n",
       "    <tr style=\"text-align: right;\">\n",
       "      <th></th>\n",
       "      <th>X</th>\n",
       "      <th>Target Y</th>\n",
       "      <th>Predicted Y</th>\n",
       "    </tr>\n",
       "  </thead>\n",
       "  <tbody>\n",
       "    <tr>\n",
       "      <th>0</th>\n",
       "      <td>5.33</td>\n",
       "      <td>36.2</td>\n",
       "      <td>29.295699</td>\n",
       "    </tr>\n",
       "    <tr>\n",
       "      <th>1</th>\n",
       "      <td>13.65</td>\n",
       "      <td>20.7</td>\n",
       "      <td>21.569546</td>\n",
       "    </tr>\n",
       "    <tr>\n",
       "      <th>2</th>\n",
       "      <td>21.32</td>\n",
       "      <td>19.1</td>\n",
       "      <td>14.447000</td>\n",
       "    </tr>\n",
       "    <tr>\n",
       "      <th>3</th>\n",
       "      <td>21.32</td>\n",
       "      <td>13.3</td>\n",
       "      <td>14.447000</td>\n",
       "    </tr>\n",
       "    <tr>\n",
       "      <th>4</th>\n",
       "      <td>4.08</td>\n",
       "      <td>33.3</td>\n",
       "      <td>30.456479</td>\n",
       "    </tr>\n",
       "  </tbody>\n",
       "</table>\n",
       "</div>"
      ],
      "text/plain": [
       "       X  Target Y  Predicted Y\n",
       "0   5.33      36.2    29.295699\n",
       "1  13.65      20.7    21.569546\n",
       "2  21.32      19.1    14.447000\n",
       "3  21.32      13.3    14.447000\n",
       "4   4.08      33.3    30.456479"
      ]
     },
     "execution_count": 23,
     "metadata": {},
     "output_type": "execute_result"
    }
   ],
   "source": [
    "#reshape to change the shape that is required by the scaler\n",
    "predicted = predicted.reshape(-1, 1)\n",
    "xtest = xtest.reshape(-1, 1)\n",
    "ytest = ytest.reshape(-1, 1)\n",
    "\n",
    "xtest_scaled = x_scaler.inverse_transform(xtest)\n",
    "ytest_scaled = y_scaler.inverse_transform(ytest)\n",
    "predicted_scaled = y_scaler.inverse_transform(predicted)\n",
    "\n",
    "\n",
    "#this is to remove extra dimensions\n",
    "\n",
    "xtest_scaled = xtest_scaled[:, -1]\n",
    "ytest_scaled = ytest_scaled[:, -1]\n",
    "predicted_scaled = predicted_scaled[:, -1]\n",
    "\n",
    "p = pd.DataFrame(list(zip(xtest_scaled, ytest_scaled, predicted_scaled)), columns =['X', 'Target Y', 'Predicted Y'])\n",
    "p.round(decimals = 2)\n",
    "p.head()"
   ]
  }
 ],
 "metadata": {
  "kernelspec": {
   "display_name": "Python 3",
   "language": "python",
   "name": "python3"
  },
  "language_info": {
   "codemirror_mode": {
    "name": "ipython",
    "version": 3
   },
   "file_extension": ".py",
   "mimetype": "text/x-python",
   "name": "python",
   "nbconvert_exporter": "python",
   "pygments_lexer": "ipython3",
   "version": "3.7.10"
  },
  "papermill": {
   "default_parameters": {},
   "duration": 12.655313,
   "end_time": "2021-06-01T10:29:26.723882",
   "environment_variables": {},
   "exception": null,
   "input_path": "__notebook__.ipynb",
   "output_path": "__notebook__.ipynb",
   "parameters": {},
   "start_time": "2021-06-01T10:29:14.068569",
   "version": "2.3.3"
  }
 },
 "nbformat": 4,
 "nbformat_minor": 5
}
